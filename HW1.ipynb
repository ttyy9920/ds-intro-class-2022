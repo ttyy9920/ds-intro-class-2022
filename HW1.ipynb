{
 "cells": [
  {
   "cell_type": "markdown",
   "id": "1c18ae95",
   "metadata": {},
   "source": [
    "### Exercise 3"
   ]
  },
  {
   "cell_type": "markdown",
   "id": "4af486c0",
   "metadata": {},
   "source": [
    "1. Write a program flow which will assign grade by the test scores using the following conditions:\n",
    "If score >= 90, grade=\"A\"\n",
    "If 80 >= score >90, grade=\"B\"\n",
    "If 70 >= score >80, grade=\"C\"\n",
    "If 60 >= score >70, grade=\"D\"\n",
    "IF score < 60, grade=\"F\""
   ]
  },
  {
   "cell_type": "code",
   "execution_count": 14,
   "id": "00b93a21",
   "metadata": {},
   "outputs": [
    {
     "name": "stdout",
     "output_type": "stream",
     "text": [
      "Enter your grade: 90\n",
      "grade=A\n"
     ]
    }
   ],
   "source": [
    "score = int(input(\"Enter your grade: \"))\n",
    "\n",
    "if score >= 90: print(\"grade=A\")\n",
    "if 80 >= score >90: print(\"grade=B\")\n",
    "if 70 >= score >80: print(\"grade=C\")\n",
    "if 60 >= score >70: print(\"grade=D\")\n",
    "if score < 60: print(\"grade=F\")\n"
   ]
  },
  {
   "cell_type": "markdown",
   "id": "40c2f227",
   "metadata": {},
   "source": [
    "2. x=1, y=1, write a flow to assign messge to different value base on different criteria as below, and in the end print out the message:\n",
    "a. If x less than y, messge=\"x is less than y\"\n",
    "b. If x larger than y, messge=\"x is greater than y\"\n",
    "c. If x equal to y, messge=\"x is the same as y\""
   ]
  },
  {
   "cell_type": "code",
   "execution_count": 7,
   "id": "24f6041d",
   "metadata": {},
   "outputs": [
    {
     "name": "stdout",
     "output_type": "stream",
     "text": [
      "x is the same as y\n"
     ]
    }
   ],
   "source": [
    "x=1\n",
    "y=1\n",
    "\n",
    "if x < y: print(\"x is less than y\")\n",
    "if x > y: print(\"x is greater than y\")\n",
    "if x == y: print(\"x is the same as y\")"
   ]
  },
  {
   "cell_type": "markdown",
   "id": "e48c04f5",
   "metadata": {},
   "source": [
    "#### Exercise 4. "
   ]
  },
  {
   "cell_type": "markdown",
   "id": "d00556c6",
   "metadata": {},
   "source": [
    "1. [Read more on `list`](https://docs.python.org/3/tutorial/datastructures.html#more-on-lists) and select 2 list methods not mentioned in class to give examples of using them."
   ]
  },
  {
   "cell_type": "code",
   "execution_count": 29,
   "id": "e25773fd",
   "metadata": {},
   "outputs": [
    {
     "data": {
      "text/plain": [
       "2"
      ]
     },
     "execution_count": 29,
     "metadata": {},
     "output_type": "execute_result"
    }
   ],
   "source": [
    "one_list=['!', 'D', 'S', 'a', 'x', 'c', 'c', 'e', 'e', 'i', 'n', 't']\n",
    "one_list.count('c')\n",
    "\n"
   ]
  },
  {
   "cell_type": "code",
   "execution_count": 30,
   "id": "2157c640",
   "metadata": {},
   "outputs": [
    {
     "data": {
      "text/plain": [
       "[]"
      ]
     },
     "execution_count": 30,
     "metadata": {},
     "output_type": "execute_result"
    }
   ],
   "source": [
    "one_list.clear()\n",
    "one_list"
   ]
  },
  {
   "cell_type": "markdown",
   "id": "77046544",
   "metadata": {},
   "source": [
    "2. How can you check if a `key` is already in a dictionary? Give an example."
   ]
  },
  {
   "cell_type": "code",
   "execution_count": 37,
   "id": "dcedbb8e",
   "metadata": {},
   "outputs": [
    {
     "name": "stdout",
     "output_type": "stream",
     "text": [
      "The given key exists in the dictionary\n"
     ]
    }
   ],
   "source": [
    "dictExample = {'Apples':10, 'Bananas':20, 'Chocolate':30}\n",
    "\n",
    "keyToFind = 'Apples'\n",
    "\n",
    "if keyToFind in dictExample:\n",
    "\n",
    "  print(\"The given key exists in the dictionary\")\n",
    "\n",
    "else:\n",
    "\n",
    "  print(\"The given key does not exist in the dictionary.\")\n",
    "\n"
   ]
  },
  {
   "cell_type": "markdown",
   "id": "5828c4d6",
   "metadata": {},
   "source": [
    "3. [Explore how `Counter`](https://docs.python.org/3/library/collections.html#collections.Counter) works as another type of collection. Give 2 examples to use `Counter`."
   ]
  },
  {
   "cell_type": "markdown",
   "id": "3cc1e92b",
   "metadata": {},
   "source": [
    "4. The Fibonacci Sequence is the series of numbers:\n",
    "0, 1, 1, 2, 3, 5, 8, 13, 21, 34, ...\n",
    "\n",
    "The next number is found by adding up the two numbers before it.\n",
    "Find the last element of the `fibolist`"
   ]
  },
  {
   "cell_type": "code",
   "execution_count": 38,
   "id": "df1be6cd",
   "metadata": {},
   "outputs": [
    {
     "data": {
      "text/plain": [
       "317811"
      ]
     },
     "execution_count": 38,
     "metadata": {},
     "output_type": "execute_result"
    }
   ],
   "source": [
    "fibolist=[0, 1, 1, 2, 3, 5, 8, 13, 21, 34, 55, 89, 144, 233, 377, 610, 987, 1597, 2584, 4181, 6765, 10946, 17711, 28657, 46368, 75025, 121393, 196418, 317811]\n",
    "\n",
    "fibolist[-1]\n"
   ]
  },
  {
   "cell_type": "markdown",
   "id": "fe9725a6",
   "metadata": {},
   "source": [
    "5. Calculate the sum of `fibolist`"
   ]
  },
  {
   "cell_type": "code",
   "execution_count": 39,
   "id": "94912c8f",
   "metadata": {},
   "outputs": [
    {
     "data": {
      "text/plain": [
       "832039"
      ]
     },
     "execution_count": 39,
     "metadata": {},
     "output_type": "execute_result"
    }
   ],
   "source": [
    "sum(fibolist)"
   ]
  },
  {
   "cell_type": "markdown",
   "id": "78efda4a",
   "metadata": {},
   "source": [
    "6. Calculate and append the next fibonacci number to `fibolist`."
   ]
  },
  {
   "cell_type": "code",
   "execution_count": 50,
   "id": "274a99e0",
   "metadata": {},
   "outputs": [
    {
     "name": "stdout",
     "output_type": "stream",
     "text": [
      "[0, 1, 1, 2, 3, 5, 8, 13, 21, 34, 55, 89, 144, 233, 377, 610, 987, 1597, 2584, 4181, 6765, 10946, 17711, 28657, 46368, 75025, 121393, 196418, 317811, 514229, 832040]\n"
     ]
    }
   ],
   "source": [
    "a.append(fibolist[-2]+fibolist[-1])\n",
    "print(a)"
   ]
  },
  {
   "cell_type": "markdown",
   "id": "5874f334",
   "metadata": {},
   "source": [
    "7. Create a reversed copy of fibolist without permanently reversing fibolist liteslf."
   ]
  },
  {
   "cell_type": "code",
   "execution_count": 51,
   "id": "827f661c",
   "metadata": {},
   "outputs": [
    {
     "data": {
      "text/plain": [
       "[0,\n",
       " 1,\n",
       " 1,\n",
       " 2,\n",
       " 3,\n",
       " 5,\n",
       " 8,\n",
       " 13,\n",
       " 21,\n",
       " 34,\n",
       " 55,\n",
       " 89,\n",
       " 144,\n",
       " 233,\n",
       " 377,\n",
       " 610,\n",
       " 987,\n",
       " 1597,\n",
       " 2584,\n",
       " 4181,\n",
       " 6765,\n",
       " 10946,\n",
       " 17711,\n",
       " 28657,\n",
       " 46368,\n",
       " 75025,\n",
       " 121393,\n",
       " 196418,\n",
       " 317811,\n",
       " 514229]"
      ]
     },
     "execution_count": 51,
     "metadata": {},
     "output_type": "execute_result"
    }
   ],
   "source": [
    "a = fibolist.copy()\n",
    "a"
   ]
  },
  {
   "cell_type": "markdown",
   "id": "8dc6cffc",
   "metadata": {},
   "source": [
    "8. Check if `29473` is a fibonacci number, and assign the anser to variable `fibo_29473`"
   ]
  },
  {
   "cell_type": "code",
   "execution_count": 52,
   "id": "f72b79b8",
   "metadata": {},
   "outputs": [
    {
     "data": {
      "text/plain": [
       "False"
      ]
     },
     "execution_count": 52,
     "metadata": {},
     "output_type": "execute_result"
    }
   ],
   "source": [
    "fibo_29473 = 29473 in fibolist\n",
    "fibo_29473"
   ]
  },
  {
   "cell_type": "markdown",
   "id": "ff933806",
   "metadata": {},
   "source": [
    "9. Create two sets. Calculate the union, intersection, difference and symmetric difference for the two sets."
   ]
  },
  {
   "cell_type": "code",
   "execution_count": 53,
   "id": "cccf4a72",
   "metadata": {},
   "outputs": [
    {
     "name": "stdout",
     "output_type": "stream",
     "text": [
      "{'d', 'r', 'b'}\n",
      "{'d', 'b', 'a', 'c', 'l', 'm', 'z', 'r'}\n",
      "{'a', 'c'}\n",
      "{'d', 'b', 'l', 'm', 'z', 'r'}\n"
     ]
    }
   ],
   "source": [
    "a = set('abracadabra')\n",
    "b = set('alacazam')\n",
    "print(a - b)                              # difference\n",
    "print(a | b)                              # union\n",
    "print(a & b)                              # intersection\n",
    "print(a ^ b)                              # symmetric difference"
   ]
  },
  {
   "cell_type": "markdown",
   "id": "ba672d74",
   "metadata": {},
   "source": [
    "10. Creat a dictionary using at least two different methods."
   ]
  },
  {
   "cell_type": "code",
   "execution_count": 57,
   "id": "bd8b17ae",
   "metadata": {},
   "outputs": [
    {
     "data": {
      "text/plain": [
       "{'data': 'science', 'science': 0, 0: {'data': ['science'], 'science': 0}}"
      ]
     },
     "execution_count": 57,
     "metadata": {},
     "output_type": "execute_result"
    }
   ],
   "source": [
    "one_dict = dict(data=['science'], science=0)\n",
    "one_dict\n",
    "\n",
    "three_dict = {}\n",
    "three_dict['data'] = 'science'\n",
    "three_dict['science'] = 0\n",
    "three_dict[0] = one_dict\n",
    "three_dict"
   ]
  },
  {
   "cell_type": "markdown",
   "id": "dc196de0",
   "metadata": {},
   "source": [
    "11. Check if `2` and `9999` are fibonacci numbers. Create a dictionary `fibo_dict` with the numbers as keys, and boolean value=`True` if the number is fibonacci number, and `False` otherwise."
   ]
  },
  {
   "cell_type": "code",
   "execution_count": 63,
   "id": "1a1b2196",
   "metadata": {},
   "outputs": [
    {
     "data": {
      "text/plain": [
       "{'key1': 2, 'key2': 9999}"
      ]
     },
     "execution_count": 63,
     "metadata": {},
     "output_type": "execute_result"
    }
   ],
   "source": [
    "fibo_dict = dict(2=True,9999=True)\n",
    "fibo_dict\n"
   ]
  },
  {
   "cell_type": "code",
   "execution_count": null,
   "id": "7874c2d8",
   "metadata": {},
   "outputs": [],
   "source": []
  }
 ],
 "metadata": {
  "kernelspec": {
   "display_name": "Python 3 (ipykernel)",
   "language": "python",
   "name": "python3"
  },
  "language_info": {
   "codemirror_mode": {
    "name": "ipython",
    "version": 3
   },
   "file_extension": ".py",
   "mimetype": "text/x-python",
   "name": "python",
   "nbconvert_exporter": "python",
   "pygments_lexer": "ipython3",
   "version": "3.10.8"
  }
 },
 "nbformat": 4,
 "nbformat_minor": 5
}
